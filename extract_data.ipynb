{
  "nbformat": 4,
  "nbformat_minor": 0,
  "metadata": {
    "colab": {
      "provenance": []
    },
    "kernelspec": {
      "name": "python3",
      "display_name": "Python 3"
    },
    "language_info": {
      "name": "python"
    }
  },
  "cells": [
    {
      "cell_type": "code",
      "execution_count": null,
      "metadata": {
        "colab": {
          "base_uri": "https://localhost:8080/"
        },
        "id": "rpRfHAWWL7rk",
        "outputId": "fa4eed78-ef52-4016-c0c3-67b70cd22dd0"
      },
      "outputs": [
        {
          "output_type": "stream",
          "name": "stdout",
          "text": [
            "Mounted at /content/drive\n"
          ]
        }
      ],
      "source": [
        "from google.colab import drive\n",
        "drive.mount('/content/drive')"
      ]
    },
    {
      "cell_type": "code",
      "source": [
        "import pandas as pd"
      ],
      "metadata": {
        "id": "Q13nkzEAMKqz"
      },
      "execution_count": null,
      "outputs": []
    },
    {
      "cell_type": "code",
      "source": [
        "def read_pkl(file_path):\n",
        "    data = pd.read_pickle(file_path)\n",
        "    return data"
      ],
      "metadata": {
        "id": "wwQwS0uiMMK4"
      },
      "execution_count": null,
      "outputs": []
    },
    {
      "cell_type": "code",
      "source": [
        "def extract_data(data):\n",
        "    extracted_data = {\n",
        "        'hu_array': data['hu_array'],\n",
        "        'mask': data['mask']\n",
        "    }\n",
        "    return extracted_data"
      ],
      "metadata": {
        "id": "pDDvzsftMNxD"
      },
      "execution_count": null,
      "outputs": []
    },
    {
      "cell_type": "code",
      "source": [
        "def save_pkl(data, file_path):\n",
        "    df = pd.DataFrame(data)\n",
        "    df.to_pickle(file_path)"
      ],
      "metadata": {
        "id": "_UPhzwhqMYc0"
      },
      "execution_count": null,
      "outputs": []
    },
    {
      "cell_type": "code",
      "source": [
        "# Đường dẫn đến các file\n",
        "train_file_path = '/content/drive/MyDrive/u-net/lung_cancer/lung_cancer_train.pkl'\n",
        "test_file_path = '/content/drive/MyDrive/u-net/lung_cancer/lung_cancer_test.pkl'\n"
      ],
      "metadata": {
        "id": "KhFUpkMHMZ39"
      },
      "execution_count": null,
      "outputs": []
    },
    {
      "cell_type": "code",
      "source": [
        "# Đọc dữ liệu từ các file\n",
        "train_data = read_pkl(train_file_path)\n",
        "test_data = read_pkl(test_file_path)"
      ],
      "metadata": {
        "id": "AzPUi6bgMbA1"
      },
      "execution_count": null,
      "outputs": []
    },
    {
      "cell_type": "code",
      "source": [
        "# Trích xuất dữ liệu hu_array và mask\n",
        "extracted_train_data = extract_data(train_data)\n",
        "extracted_test_data = extract_data(test_data)"
      ],
      "metadata": {
        "id": "6XmvdXx0MdYV"
      },
      "execution_count": null,
      "outputs": []
    },
    {
      "cell_type": "code",
      "source": [
        "# Lưu dữ liệu đã trích xuất vào file pkl mới\n",
        "save_pkl(extracted_train_data, '/content/drive/MyDrive/u-net/lung_cancer/extracted_lung_cancer_train.pkl')\n",
        "save_pkl(extracted_test_data, '/content/drive/MyDrive/u-net/lung_cancer/extracted_lung_cancer_test.pkl')"
      ],
      "metadata": {
        "id": "w78hpzJrMhTI"
      },
      "execution_count": null,
      "outputs": []
    }
  ]
}